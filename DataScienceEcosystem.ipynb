{
  "metadata": {
    "kernelspec": {
      "name": "python",
      "display_name": "Python (Pyodide)",
      "language": "python"
    },
    "language_info": {
      "codemirror_mode": {
        "name": "python",
        "version": 3
      },
      "file_extension": ".py",
      "mimetype": "text/x-python",
      "name": "python",
      "nbconvert_exporter": "python",
      "pygments_lexer": "ipython3",
      "version": "3.8"
    }
  },
  "nbformat_minor": 5,
  "nbformat": 4,
  "cells": [
    {
      "id": "d946439c-808b-4dde-ac99-15589ba04dcc",
      "cell_type": "markdown",
      "source": "# Data Science Tools and Ecosystem",
      "metadata": {}
    },
    {
      "id": "95c6cdb4-f430-4b0b-9c7e-a165506d2106",
      "cell_type": "markdown",
      "source": "In this notebook, Data Science Tools and Ecosystem are summarized.",
      "metadata": {}
    },
    {
      "id": "13c95ec4-3816-4919-9b26-8ead250ce15e",
      "cell_type": "markdown",
      "source": "**Objectives:**\n\n- List popular languages for Data Science\n- List popular tools for Data Science\n- Mathmatical practice",
      "metadata": {}
    },
    {
      "id": "40d2c01b-f82f-4d7c-b9a0-7f88d1170bb4",
      "cell_type": "markdown",
      "source": "Some of the popular languages that Data Scientists use are:\n\n1. Python\n2. R\n3. SQL",
      "metadata": {}
    },
    {
      "id": "f49406a0-533d-432c-a819-856047d7ed7d",
      "cell_type": "markdown",
      "source": "Some of the commonly used libraries used by Data Scientists include:\n\n- NumPy\n- Pandas\n- Matplotlib",
      "metadata": {}
    },
    {
      "id": "697f6a18-8267-4526-a365-7ac8a98b1d18",
      "cell_type": "markdown",
      "source": "|Data Science Tools|\n|------------------|\n|TensorFlow.       |\n| Jupyter Notebooks|\n| Jupyter labs.    |\n",
      "metadata": {}
    },
    {
      "id": "08a9ab35-a369-4bad-a390-4b972fb66693",
      "cell_type": "markdown",
      "source": "### Below are a few examples of evaluating arithmetic expressions in Python.",
      "metadata": {}
    },
    {
      "id": "13ff8751-a2f1-4316-8579-aab5b504969b",
      "cell_type": "code",
      "source": "# This is a simple arithmetic expression to multiply 3 and 4, then add 5 to the result.\n\nresult = (3 * 4) + 5\nprint(result)",
      "metadata": {
        "trusted": true
      },
      "outputs": [
        {
          "name": "stdout",
          "output_type": "stream",
          "text": "17\n"
        }
      ],
      "execution_count": 1
    },
    {
      "id": "606919dd-df98-47d3-92cb-950005959fbc",
      "cell_type": "code",
      "source": "#This will convert 200 minutes to hours by diving by 60\n\nhours = 200/60\nprint(round(hours,2))",
      "metadata": {
        "trusted": true
      },
      "outputs": [
        {
          "name": "stdout",
          "output_type": "stream",
          "text": "3.33\n"
        }
      ],
      "execution_count": 4
    },
    {
      "id": "78aa10eb-c093-4401-93d0-8188a3d414a3",
      "cell_type": "markdown",
      "source": "## Author\n\nChika Okafor",
      "metadata": {}
    }
  ]
}